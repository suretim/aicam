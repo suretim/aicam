{
 "cells": [
  {
   "cell_type": "code",
   "execution_count": null,
   "id": "ad034ccf",
   "metadata": {
    "lines_to_next_cell": 0
   },
   "outputs": [],
   "source": []
  },
  {
   "cell_type": "code",
   "execution_count": null,
   "id": "233985e3",
   "metadata": {},
   "outputs": [],
   "source": [
    "import os\n",
    "import glob\n",
    "import numpy as np\n",
    "import pandas as pd\n",
    "import tensorflow as tf"
   ]
  },
  {
   "cell_type": "code",
   "execution_count": null,
   "id": "08752720",
   "metadata": {},
   "outputs": [],
   "source": [
    "# ========= 可调参数 =========\n",
    "SEQ_LEN         = 128          # 每个样本的时间步长度\n",
    "NUM_FEATS       = 3            # 传感器通道数：例如 [temp, humid, light]\n",
    "LSTM_UNITS      = 64           # LSTM隐藏单元（也是默认的特征维度）\n",
    "FEATURE_DIM     = 64           # 输出编码特征维度（可与 LSTM_UNITS 相同）\n",
    "BATCH_SIZE      = 64\n",
    "EPOCHS          = 20\n",
    "LR              = 1e-3"
   ]
  },
  {
   "cell_type": "code",
   "execution_count": null,
   "id": "3aaae012",
   "metadata": {},
   "outputs": [],
   "source": [
    "# 是否同时训练一个小分类头（例如健康/异常二分类）\n",
    "WITH_CLASSIFIER = True\n",
    "NUM_CLASSES     = 2"
   ]
  },
  {
   "cell_type": "code",
   "execution_count": null,
   "id": "a27ef272",
   "metadata": {
    "lines_to_next_cell": 1
   },
   "outputs": [],
   "source": [
    "# 数据路径（示例：data/*.csv，每行一条观测）\n",
    "DATA_GLOB       = \"./data/*.csv\"\n",
    "SAVE_DIR        = \"./lstm_sensor_out\"\n",
    "os.makedirs(SAVE_DIR, exist_ok=True)"
   ]
  },
  {
   "cell_type": "code",
   "execution_count": null,
   "id": "676c9e0f",
   "metadata": {
    "lines_to_next_cell": 1
   },
   "outputs": [],
   "source": [
    "# ========= 数据加载与切片 =========\n",
    "def load_csvs(glob_pattern):\n",
    "    files = sorted(glob.glob(glob_pattern))\n",
    "    dfs = []\n",
    "    for f in files:\n",
    "        df = pd.read_csv(f)\n",
    "        # 仅取需要的列；若没有 label，则自动跳过\n",
    "        cols = [\"temp\",\"humid\",\"light\"]\n",
    "        X = df[cols].values.astype(np.float32)\n",
    "        y = None\n",
    "        if \"label\" in df.columns:\n",
    "            y = df[\"label\"].values.astype(np.int32)\n",
    "        dfs.append((X,y))\n",
    "    return dfs"
   ]
  },
  {
   "cell_type": "code",
   "execution_count": null,
   "id": "90fd640c",
   "metadata": {
    "lines_to_next_cell": 1
   },
   "outputs": [],
   "source": [
    "def zscore_norm(x, mean=None, std=None, eps=1e-6):\n",
    "    if mean is None:\n",
    "        mean = x.mean(axis=0, keepdims=True)\n",
    "    if std is None:\n",
    "        std = x.std(axis=0, keepdims=True)\n",
    "    std = np.maximum(std, eps)\n",
    "    return (x - mean) / std, mean, std"
   ]
  },
  {
   "cell_type": "code",
   "execution_count": null,
   "id": "567a390f",
   "metadata": {
    "lines_to_next_cell": 1
   },
   "outputs": [],
   "source": [
    "def make_windows(X, y, seq_len=SEQ_LEN, stride=None):\n",
    "    \"\"\"将长序列切成滑窗片段；若 y 存在，窗口的 y 取窗口末端的标签（或多数投票，自行改）\"\"\"\n",
    "    if stride is None:\n",
    "        stride = seq_len // 2\n",
    "    xs, ys = [], []\n",
    "    n = len(X)\n",
    "    for start in range(0, n - seq_len + 1, stride):\n",
    "        end = start + seq_len\n",
    "        xs.append(X[start:end])\n",
    "        if y is not None:\n",
    "            ys.append(y[end-1])\n",
    "    xs = np.stack(xs, axis=0).astype(np.float32)\n",
    "    ys = np.array(ys, dtype=np.int32) if y is not None else None\n",
    "    return xs, ys"
   ]
  },
  {
   "cell_type": "code",
   "execution_count": null,
   "id": "69766918",
   "metadata": {
    "lines_to_next_cell": 1
   },
   "outputs": [],
   "source": [
    "def build_dataset(glob_pattern, with_labels=True):\n",
    "    all_X, all_y = [], []\n",
    "    for X, y in load_csvs(glob_pattern):\n",
    "        # 缺失值填充（前向填充，再整体均值兜底）\n",
    "        if np.isnan(X).any():\n",
    "            # 简单前向填充\n",
    "            for c in range(X.shape[1]):\n",
    "                col = X[:, c]\n",
    "                idx = np.where(np.isnan(col))[0]\n",
    "                for i in idx:\n",
    "                    col[i] = col[i-1] if i > 0 else np.nan\n",
    "                # 若开头仍有 NaN，用列均值\n",
    "                if np.isnan(col).any():\n",
    "                    m = np.nanmean(col)\n",
    "                    col[np.isnan(col)] = m\n",
    "                X[:, c] = col\n",
    "\n",
    "        Xn, _, _ = zscore_norm(X)  # 逐文件做 z-score（也可换成全局统计）\n",
    "        xs, ys = make_windows(Xn, y if with_labels else None, seq_len=SEQ_LEN)\n",
    "        all_X.append(xs)\n",
    "        if with_labels and ys is not None:\n",
    "            all_y.append(ys)\n",
    "\n",
    "    X_cat = np.concatenate(all_X, axis=0)\n",
    "    if with_labels and len(all_y) > 0:\n",
    "        y_cat = np.concatenate(all_y, axis=0)\n",
    "    else:\n",
    "        y_cat = None\n",
    "    return X_cat, y_cat"
   ]
  },
  {
   "cell_type": "code",
   "execution_count": null,
   "id": "7845c3a7",
   "metadata": {
    "lines_to_next_cell": 1
   },
   "outputs": [],
   "source": [
    "# ========= 模型定义（TFLite Micro 友好）=========\n",
    "def build_lstm_encoder(num_feats=NUM_FEATS, seq_len=SEQ_LEN,\n",
    "                       lstm_units=LSTM_UNITS, feature_dim=FEATURE_DIM):\n",
    "    inp = tf.keras.Input(shape=(seq_len, num_feats), name=\"sensor_seq\")\n",
    "    # 标准 LSTM（tanh/sigmoid），避免使用不被 TFLite Micro 支持的层\n",
    "    x = tf.keras.layers.LSTM(\n",
    "        units=lstm_units,\n",
    "        activation=\"tanh\",\n",
    "        recurrent_activation=\"sigmoid\",\n",
    "        return_sequences=False,   # 仅取最后一步\n",
    "        use_bias=True,\n",
    "        name=\"lstm\"\n",
    "    )(inp)\n",
    "    # 压缩到固定维度的特征向量\n",
    "    feat = tf.keras.layers.Dense(feature_dim, activation=None, name=\"feat_dense\")(x)\n",
    "    feat = tf.keras.layers.Lambda(lambda t: tf.identity(t), name=\"feature\")(feat)\n",
    "    # 编码器模型：输入序列 -> 特征向量\n",
    "    enc = tf.keras.Model(inp, feat, name=\"lstm_encoder\")\n",
    "    return enc"
   ]
  },
  {
   "cell_type": "code",
   "execution_count": null,
   "id": "521dc6b0",
   "metadata": {
    "lines_to_next_cell": 1
   },
   "outputs": [],
   "source": [
    "def build_full_model(with_classifier=WITH_CLASSIFIER):\n",
    "    enc = build_lstm_encoder()\n",
    "    if not with_classifier:\n",
    "        return enc\n",
    "    out = tf.keras.layers.Dense(NUM_CLASSES, activation=None, name=\"logits\")(enc.output)\n",
    "    return tf.keras.Model(enc.input, [enc.output, out], name=\"lstm_encoder_head\")"
   ]
  },
  {
   "cell_type": "code",
   "execution_count": null,
   "id": "3b6aef9f",
   "metadata": {
    "lines_to_next_cell": 1
   },
   "outputs": [],
   "source": [
    "# ========= 训练流程 =========\n",
    "def main():\n",
    "    print(\"Loading data ...\")\n",
    "    X, y = build_dataset(DATA_GLOB, with_labels=WITH_CLASSIFIER)\n",
    "    print(\"X:\", X.shape, \" y:\", None if y is None else y.shape)\n",
    "\n",
    "    # 训练/验证划分\n",
    "    if WITH_CLASSIFIER and y is not None:\n",
    "        idx = np.arange(len(X))\n",
    "        np.random.shuffle(idx)\n",
    "        split = int(len(X) * 0.8)\n",
    "        train_idx, val_idx = idx[:split], idx[split:]\n",
    "        X_train, y_train = X[train_idx], y[train_idx]\n",
    "        X_val,   y_val   = X[val_idx],   y[val_idx]\n",
    "    else:\n",
    "        # 无监督特征提取：全部用于训练（例如对比学习可自行扩展）\n",
    "        X_train, X_val = X, X[:0]\n",
    "        y_train, y_val = None, None\n",
    "\n",
    "    # 构建模型\n",
    "    model = build_full_model(with_classifier=WITH_CLASSIFIER)\n",
    "    model.summary()\n",
    "\n",
    "    # 编译\n",
    "    losses = {}\n",
    "    metrics = {}\n",
    "    if WITH_CLASSIFIER:\n",
    "        # 任务：同时最小化分类损失（特征分支无监督，不加损失）\n",
    "        losses[\"feature\"] = None  # 不对特征直接施加损失\n",
    "        losses[\"logits\"]  = tf.keras.losses.SparseCategoricalCrossentropy(from_logits=True)\n",
    "        metrics[\"logits\"] = [tf.keras.metrics.SparseCategoricalAccuracy()]\n",
    "        model.compile(\n",
    "            optimizer=tf.keras.optimizers.Adam(LR),\n",
    "            loss=losses,\n",
    "            metrics=metrics\n",
    "        )\n",
    "    else:\n",
    "        # 仅导出编码器，无监督：用自编码/对比损失可自行扩展；这里占位训练（不会真正更新）\n",
    "        model.compile(optimizer=tf.keras.optimizers.Adam(LR), loss=None)\n",
    "\n",
    "    # 训练\n",
    "    if WITH_CLASSIFIER and y_train is not None and len(X_train) > 0:\n",
    "        history = model.fit(\n",
    "            X_train, {\"logits\": y_train},\n",
    "            validation_data=(X_val, {\"logits\": y_val}) if len(X_val) > 0 else None,\n",
    "            epochs=EPOCHS,\n",
    "            batch_size=BATCH_SIZE,\n",
    "            shuffle=True\n",
    "        )\n",
    "        model.save(os.path.join(SAVE_DIR, \"lstm_encoder_head.h5\"))\n",
    "        # 另存“仅编码器”\n",
    "        enc = tf.keras.Model(model.input, model.get_layer(\"feature\").output, name=\"lstm_encoder\")\n",
    "        enc.save(os.path.join(SAVE_DIR, \"lstm_encoder.h5\"))\n",
    "    else:\n",
    "        # 仅保存编码器\n",
    "        enc = model if not WITH_CLASSIFIER else tf.keras.Model(model.input, model.get_layer(\"feature\").output)\n",
    "        enc.save(os.path.join(SAVE_DIR, \"lstm_encoder.h5\"))\n",
    "\n",
    "    # ========= 导出 TFLite（Float32 & Int8）=========\n",
    "    def save_tflite(keras_model, out_path, quant_int8=False, rep_data=None):\n",
    "        converter = tf.lite.TFLiteConverter.from_keras_model(keras_model)\n",
    "        if quant_int8:\n",
    "            converter.optimizations = [tf.lite.Optimize.DEFAULT]\n",
    "            assert rep_data is not None, \"需要代表性数据做 Int8 量化\"\n",
    "            def rep_dataset():\n",
    "                for i in range(min(200, len(rep_data))):\n",
    "                    # 每次 yield 一个样本（保持 float32，再由代表性校准）\n",
    "                    yield [rep_data[i:i+1]]\n",
    "            converter.representative_dataset = rep_dataset\n",
    "            converter.target_spec.supported_ops = [tf.lite.OpsSet.TFLITE_BUILTINS_INT8]\n",
    "            converter.inference_input_type  = tf.int8\n",
    "            converter.inference_output_type = tf.int8\n",
    "        else:\n",
    "            converter.target_spec.supported_ops = [tf.lite.OpsSet.TFLITE_BUILTINS]\n",
    "\n",
    "        tflite_model = converter.convert()\n",
    "        with open(out_path, \"wb\") as f:\n",
    "            f.write(tflite_model)\n",
    "        print(\"Saved:\", out_path, \" size:\", os.path.getsize(out_path)/1024, \"KB\")\n",
    "\n",
    "    # 以“仅编码器”导出\n",
    "    encoder_keras = tf.keras.models.load_model(os.path.join(SAVE_DIR, \"lstm_encoder.h5\"))\n",
    "\n",
    "    # Float32（最稳妥，先用于 ESP32-S3 验证）\n",
    "    save_tflite(encoder_keras, os.path.join(SAVE_DIR, \"lstm_encoder_fp32.tflite\"))\n",
    "\n",
    "    # Int8（需注意：TFLite Micro 的 INT8 LSTM 在不同版本的可用性与精度）\n",
    "    # 用训练集的一小部分做代表性数据\n",
    "    rep = X_train if len(X_train) > 0 else X[:256]\n",
    "    if len(rep) > 0:\n",
    "        save_tflite(encoder_keras, os.path.join(SAVE_DIR, \"lstm_encoder_int8.tflite\"),\n",
    "                    quant_int8=True, rep_data=rep)\n",
    "\n",
    "    # 同时导出带分类头（可选）\n",
    "    if WITH_CLASSIFIER:\n",
    "        head_keras = tf.keras.models.load_model(os.path.join(SAVE_DIR, \"lstm_encoder_head.h5\"))\n",
    "        save_tflite(head_keras, os.path.join(SAVE_DIR, \"lstm_encoder_head_fp32.tflite\"))"
   ]
  },
  {
   "cell_type": "code",
   "execution_count": null,
   "id": "5cab7c37",
   "metadata": {},
   "outputs": [],
   "source": [
    "if __name__ == \"__main__\":\n",
    "    main()"
   ]
  }
 ],
 "metadata": {
  "jupytext": {
   "cell_metadata_filter": "-all",
   "encoding": "# -*- coding: utf-8 -*-",
   "executable": "/usr/bin/env python3",
   "formats": "ipynb,py",
   "main_language": "python"
  }
 },
 "nbformat": 4,
 "nbformat_minor": 5
}
